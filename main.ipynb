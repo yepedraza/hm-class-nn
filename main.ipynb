{
 "cells": [
  {
   "cell_type": "code",
   "execution_count": 1,
   "metadata": {},
   "outputs": [],
   "source": [
    "import numpy as np\n",
    "import matplotlib.pyplot as plt\n",
    "from sklearn.datasets import make_gaussian_quantiles\n",
    "from dataset import Dataset\n",
    "from neuralNetwork import NeuralNetwork"
   ]
  },
  {
   "cell_type": "code",
   "execution_count": 2,
   "metadata": {},
   "outputs": [],
   "source": [
    "N  = 1000 #Creación de 1000 ejemplos\n",
    "gaussian_quantiles= make_gaussian_quantiles(mean=None, cov=0.1, n_samples = N, n_features=2,\n",
    "                                            n_classes = 2, shuffle=True, random_state = None)\n",
    "\n",
    "X, Y = gaussian_quantiles\n",
    "Y = Y[:, np.newaxis]"
   ]
  },
  {
   "cell_type": "code",
   "execution_count": 3,
   "metadata": {},
   "outputs": [
    {
     "name": "stdout",
     "output_type": "stream",
     "text": [
      "(1000, 1)\n"
     ]
    }
   ],
   "source": [
    "dataset = Dataset(X, Y)\n",
    "print(dataset.y_train.shape)"
   ]
  },
  {
   "cell_type": "code",
   "execution_count": 4,
   "metadata": {},
   "outputs": [],
   "source": [
    "#plt.scatter(dataset.x_train[:, 0], dataset.x_train[:, 1], c = dataset.y_train[:, 0], s = 40, cmap=plt.cm.Spectral)\n",
    "#plt.show()"
   ]
  },
  {
   "cell_type": "code",
   "execution_count": 7,
   "metadata": {},
   "outputs": [
    {
     "ename": "TypeError",
     "evalue": "__init__() missing 2 required positional arguments: 'y_train' and 'layers_dim'",
     "output_type": "error",
     "traceback": [
      "\u001b[0;31m---------------------------------------------------------------------------\u001b[0m",
      "\u001b[0;31mTypeError\u001b[0m                                 Traceback (most recent call last)",
      "\u001b[1;32m/home/yepedraza/universityProjects/hm-class-nn/main.ipynb Cell 5'\u001b[0m in \u001b[0;36m<cell line: 1>\u001b[0;34m()\u001b[0m\n\u001b[0;32m----> <a href='vscode-notebook-cell://wsl%2Bubuntu/home/yepedraza/universityProjects/hm-class-nn/main.ipynb#ch0000004vscode-remote?line=0'>1</a>\u001b[0m neural_network \u001b[39m=\u001b[39m NeuralNetwork([\u001b[39m2\u001b[39;49m, \u001b[39m4\u001b[39;49m, \u001b[39m8\u001b[39;49m, \u001b[39m1\u001b[39;49m])\n\u001b[1;32m      <a href='vscode-notebook-cell://wsl%2Bubuntu/home/yepedraza/universityProjects/hm-class-nn/main.ipynb#ch0000004vscode-remote?line=1'>2</a>\u001b[0m neural_network\u001b[39m.\u001b[39minitialize_params()\n",
      "\u001b[0;31mTypeError\u001b[0m: __init__() missing 2 required positional arguments: 'y_train' and 'layers_dim'"
     ]
    }
   ],
   "source": [
    "neural_network = NeuralNetwork(dataset.x_train, dataset.y_train, [2, 4, 8, 1])\n",
    "neural_network.initialize_params()\n"
   ]
  }
 ],
 "metadata": {
  "interpreter": {
   "hash": "6b055dcc96ad675ee6176af2dc3b909163f6e8ddac37f66f9c9c3c9744edd8df"
  },
  "kernelspec": {
   "display_name": "Python 3.9.7 ('ML')",
   "language": "python",
   "name": "python3"
  },
  "language_info": {
   "codemirror_mode": {
    "name": "ipython",
    "version": 3
   },
   "file_extension": ".py",
   "mimetype": "text/x-python",
   "name": "python",
   "nbconvert_exporter": "python",
   "pygments_lexer": "ipython3",
   "version": "3.9.7"
  },
  "orig_nbformat": 4
 },
 "nbformat": 4,
 "nbformat_minor": 2
}
